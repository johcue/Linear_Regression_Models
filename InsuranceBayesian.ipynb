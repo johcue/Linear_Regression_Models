{
  "nbformat": 4,
  "nbformat_minor": 0,
  "metadata": {
    "colab": {
      "name": "InsuranceBayesian.ipynb",
      "provenance": [],
      "collapsed_sections": [],
      "include_colab_link": true
    },
    "kernelspec": {
      "name": "python3",
      "display_name": "Python 3"
    },
    "language_info": {
      "name": "python"
    },
    "widgets": {
      "application/vnd.jupyter.widget-state+json": {
        "3adaeefa38ea49e891d7230b421a6ac8": {
          "model_module": "@jupyter-widgets/controls",
          "model_name": "VBoxModel",
          "model_module_version": "1.5.0",
          "state": {
            "_view_name": "VBoxView",
            "_dom_classes": [
              "widget-interact"
            ],
            "_model_name": "VBoxModel",
            "_view_module": "@jupyter-widgets/controls",
            "_model_module_version": "1.5.0",
            "_view_count": null,
            "_view_module_version": "1.5.0",
            "box_style": "",
            "layout": "IPY_MODEL_ffaac05aa6d647c0bc0c5eccbfda3d66",
            "_model_module": "@jupyter-widgets/controls",
            "children": [
              "IPY_MODEL_2034cff823c345f58c2ad1d97b94fa4a",
              "IPY_MODEL_86d5483fb15242e8b9eb4f1605fb299d",
              "IPY_MODEL_0fa734c14d0c444a8093604fa9a1c98a",
              "IPY_MODEL_b8c2e99e14e74d538e92b26e988c479a"
            ]
          }
        },
        "ffaac05aa6d647c0bc0c5eccbfda3d66": {
          "model_module": "@jupyter-widgets/base",
          "model_name": "LayoutModel",
          "model_module_version": "1.2.0",
          "state": {
            "_view_name": "LayoutView",
            "grid_template_rows": null,
            "right": null,
            "justify_content": null,
            "_view_module": "@jupyter-widgets/base",
            "overflow": null,
            "_model_module_version": "1.2.0",
            "_view_count": null,
            "flex_flow": null,
            "width": null,
            "min_width": null,
            "border": null,
            "align_items": null,
            "bottom": null,
            "_model_module": "@jupyter-widgets/base",
            "top": null,
            "grid_column": null,
            "overflow_y": null,
            "overflow_x": null,
            "grid_auto_flow": null,
            "grid_area": null,
            "grid_template_columns": null,
            "flex": null,
            "_model_name": "LayoutModel",
            "justify_items": null,
            "grid_row": null,
            "max_height": null,
            "align_content": null,
            "visibility": null,
            "align_self": null,
            "height": null,
            "min_height": null,
            "padding": null,
            "grid_auto_rows": null,
            "grid_gap": null,
            "max_width": null,
            "order": null,
            "_view_module_version": "1.2.0",
            "grid_template_areas": null,
            "object_position": null,
            "object_fit": null,
            "grid_auto_columns": null,
            "margin": null,
            "display": null,
            "left": null
          }
        },
        "2034cff823c345f58c2ad1d97b94fa4a": {
          "model_module": "@jupyter-widgets/controls",
          "model_name": "IntSliderModel",
          "model_module_version": "1.5.0",
          "state": {
            "_view_name": "IntSliderView",
            "style": "IPY_MODEL_82a4ddc9193c4ca5baf7b1924b5d279b",
            "_dom_classes": [],
            "description": "CantBase",
            "step": 3,
            "_model_name": "IntSliderModel",
            "orientation": "horizontal",
            "max": 100,
            "_view_module": "@jupyter-widgets/controls",
            "_model_module_version": "1.5.0",
            "value": 5,
            "_view_count": null,
            "disabled": false,
            "_view_module_version": "1.5.0",
            "min": 1,
            "continuous_update": true,
            "readout_format": "d",
            "description_tooltip": null,
            "readout": true,
            "_model_module": "@jupyter-widgets/controls",
            "layout": "IPY_MODEL_c7b6f5bb02564687997eae1c2d74e431"
          }
        },
        "86d5483fb15242e8b9eb4f1605fb299d": {
          "model_module": "@jupyter-widgets/controls",
          "model_name": "FloatSliderModel",
          "model_module_version": "1.5.0",
          "state": {
            "_view_name": "FloatSliderView",
            "style": "IPY_MODEL_b5a2a980ecdc4c49b5d460abc08e8521",
            "_dom_classes": [],
            "description": "Alfa_Param",
            "step": 3,
            "_model_name": "FloatSliderModel",
            "orientation": "horizontal",
            "max": 100,
            "_view_module": "@jupyter-widgets/controls",
            "_model_module_version": "1.5.0",
            "value": 1,
            "_view_count": null,
            "disabled": false,
            "_view_module_version": "1.5.0",
            "min": 1,
            "continuous_update": true,
            "readout_format": ".2f",
            "description_tooltip": null,
            "readout": true,
            "_model_module": "@jupyter-widgets/controls",
            "layout": "IPY_MODEL_e2e0afbcb56d4977b902f2feda1b8e99"
          }
        },
        "0fa734c14d0c444a8093604fa9a1c98a": {
          "model_module": "@jupyter-widgets/controls",
          "model_name": "FloatSliderModel",
          "model_module_version": "1.5.0",
          "state": {
            "_view_name": "FloatSliderView",
            "style": "IPY_MODEL_e31e5346dee54eb084e8dc162bf0ebfc",
            "_dom_classes": [],
            "description": "Lambda_Param",
            "step": 0.001,
            "_model_name": "FloatSliderModel",
            "orientation": "horizontal",
            "max": 1,
            "_view_module": "@jupyter-widgets/controls",
            "_model_module_version": "1.5.0",
            "value": 0.1,
            "_view_count": null,
            "disabled": false,
            "_view_module_version": "1.5.0",
            "min": 0.0001,
            "continuous_update": true,
            "readout_format": ".4f",
            "description_tooltip": null,
            "readout": true,
            "_model_module": "@jupyter-widgets/controls",
            "layout": "IPY_MODEL_8ae8b0e1d83146d69a72eef0cac015e3"
          }
        },
        "b8c2e99e14e74d538e92b26e988c479a": {
          "model_module": "@jupyter-widgets/output",
          "model_name": "OutputModel",
          "model_module_version": "1.0.0",
          "state": {
            "_view_name": "OutputView",
            "msg_id": "",
            "_dom_classes": [],
            "_model_name": "OutputModel",
            "outputs": [
              {
                "output_type": "display_data",
                "data": {
                  "image/png": "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\n",
                  "text/plain": "<Figure size 432x288 with 1 Axes>"
                },
                "metadata": {
                  "needs_background": "light"
                }
              },
              {
                "output_type": "stream",
                "name": "stdout",
                "text": [
                  "Parámetro Alpha: 2.8858599177349222e-08\n",
                  "Parámetro lambda: 1.522701107003411e-07\n",
                  "Parámetro L: -10237.672700103196\n"
                ]
              }
            ],
            "_view_module": "@jupyter-widgets/output",
            "_model_module_version": "1.0.0",
            "_view_count": null,
            "_view_module_version": "1.0.0",
            "layout": "IPY_MODEL_c1dd5ce98df246dbb9762f3bcfd66c9a",
            "_model_module": "@jupyter-widgets/output"
          }
        },
        "82a4ddc9193c4ca5baf7b1924b5d279b": {
          "model_module": "@jupyter-widgets/controls",
          "model_name": "SliderStyleModel",
          "model_module_version": "1.5.0",
          "state": {
            "_view_name": "StyleView",
            "handle_color": null,
            "_model_name": "SliderStyleModel",
            "description_width": "",
            "_view_module": "@jupyter-widgets/base",
            "_model_module_version": "1.5.0",
            "_view_count": null,
            "_view_module_version": "1.2.0",
            "_model_module": "@jupyter-widgets/controls"
          }
        },
        "c7b6f5bb02564687997eae1c2d74e431": {
          "model_module": "@jupyter-widgets/base",
          "model_name": "LayoutModel",
          "model_module_version": "1.2.0",
          "state": {
            "_view_name": "LayoutView",
            "grid_template_rows": null,
            "right": null,
            "justify_content": null,
            "_view_module": "@jupyter-widgets/base",
            "overflow": null,
            "_model_module_version": "1.2.0",
            "_view_count": null,
            "flex_flow": null,
            "width": null,
            "min_width": null,
            "border": null,
            "align_items": null,
            "bottom": null,
            "_model_module": "@jupyter-widgets/base",
            "top": null,
            "grid_column": null,
            "overflow_y": null,
            "overflow_x": null,
            "grid_auto_flow": null,
            "grid_area": null,
            "grid_template_columns": null,
            "flex": null,
            "_model_name": "LayoutModel",
            "justify_items": null,
            "grid_row": null,
            "max_height": null,
            "align_content": null,
            "visibility": null,
            "align_self": null,
            "height": null,
            "min_height": null,
            "padding": null,
            "grid_auto_rows": null,
            "grid_gap": null,
            "max_width": null,
            "order": null,
            "_view_module_version": "1.2.0",
            "grid_template_areas": null,
            "object_position": null,
            "object_fit": null,
            "grid_auto_columns": null,
            "margin": null,
            "display": null,
            "left": null
          }
        },
        "b5a2a980ecdc4c49b5d460abc08e8521": {
          "model_module": "@jupyter-widgets/controls",
          "model_name": "SliderStyleModel",
          "model_module_version": "1.5.0",
          "state": {
            "_view_name": "StyleView",
            "handle_color": null,
            "_model_name": "SliderStyleModel",
            "description_width": "",
            "_view_module": "@jupyter-widgets/base",
            "_model_module_version": "1.5.0",
            "_view_count": null,
            "_view_module_version": "1.2.0",
            "_model_module": "@jupyter-widgets/controls"
          }
        },
        "e2e0afbcb56d4977b902f2feda1b8e99": {
          "model_module": "@jupyter-widgets/base",
          "model_name": "LayoutModel",
          "model_module_version": "1.2.0",
          "state": {
            "_view_name": "LayoutView",
            "grid_template_rows": null,
            "right": null,
            "justify_content": null,
            "_view_module": "@jupyter-widgets/base",
            "overflow": null,
            "_model_module_version": "1.2.0",
            "_view_count": null,
            "flex_flow": null,
            "width": null,
            "min_width": null,
            "border": null,
            "align_items": null,
            "bottom": null,
            "_model_module": "@jupyter-widgets/base",
            "top": null,
            "grid_column": null,
            "overflow_y": null,
            "overflow_x": null,
            "grid_auto_flow": null,
            "grid_area": null,
            "grid_template_columns": null,
            "flex": null,
            "_model_name": "LayoutModel",
            "justify_items": null,
            "grid_row": null,
            "max_height": null,
            "align_content": null,
            "visibility": null,
            "align_self": null,
            "height": null,
            "min_height": null,
            "padding": null,
            "grid_auto_rows": null,
            "grid_gap": null,
            "max_width": null,
            "order": null,
            "_view_module_version": "1.2.0",
            "grid_template_areas": null,
            "object_position": null,
            "object_fit": null,
            "grid_auto_columns": null,
            "margin": null,
            "display": null,
            "left": null
          }
        },
        "e31e5346dee54eb084e8dc162bf0ebfc": {
          "model_module": "@jupyter-widgets/controls",
          "model_name": "SliderStyleModel",
          "model_module_version": "1.5.0",
          "state": {
            "_view_name": "StyleView",
            "handle_color": null,
            "_model_name": "SliderStyleModel",
            "description_width": "",
            "_view_module": "@jupyter-widgets/base",
            "_model_module_version": "1.5.0",
            "_view_count": null,
            "_view_module_version": "1.2.0",
            "_model_module": "@jupyter-widgets/controls"
          }
        },
        "8ae8b0e1d83146d69a72eef0cac015e3": {
          "model_module": "@jupyter-widgets/base",
          "model_name": "LayoutModel",
          "model_module_version": "1.2.0",
          "state": {
            "_view_name": "LayoutView",
            "grid_template_rows": null,
            "right": null,
            "justify_content": null,
            "_view_module": "@jupyter-widgets/base",
            "overflow": null,
            "_model_module_version": "1.2.0",
            "_view_count": null,
            "flex_flow": null,
            "width": null,
            "min_width": null,
            "border": null,
            "align_items": null,
            "bottom": null,
            "_model_module": "@jupyter-widgets/base",
            "top": null,
            "grid_column": null,
            "overflow_y": null,
            "overflow_x": null,
            "grid_auto_flow": null,
            "grid_area": null,
            "grid_template_columns": null,
            "flex": null,
            "_model_name": "LayoutModel",
            "justify_items": null,
            "grid_row": null,
            "max_height": null,
            "align_content": null,
            "visibility": null,
            "align_self": null,
            "height": null,
            "min_height": null,
            "padding": null,
            "grid_auto_rows": null,
            "grid_gap": null,
            "max_width": null,
            "order": null,
            "_view_module_version": "1.2.0",
            "grid_template_areas": null,
            "object_position": null,
            "object_fit": null,
            "grid_auto_columns": null,
            "margin": null,
            "display": null,
            "left": null
          }
        },
        "c1dd5ce98df246dbb9762f3bcfd66c9a": {
          "model_module": "@jupyter-widgets/base",
          "model_name": "LayoutModel",
          "model_module_version": "1.2.0",
          "state": {
            "_view_name": "LayoutView",
            "grid_template_rows": null,
            "right": null,
            "justify_content": null,
            "_view_module": "@jupyter-widgets/base",
            "overflow": null,
            "_model_module_version": "1.2.0",
            "_view_count": null,
            "flex_flow": null,
            "width": null,
            "min_width": null,
            "border": null,
            "align_items": null,
            "bottom": null,
            "_model_module": "@jupyter-widgets/base",
            "top": null,
            "grid_column": null,
            "overflow_y": null,
            "overflow_x": null,
            "grid_auto_flow": null,
            "grid_area": null,
            "grid_template_columns": null,
            "flex": null,
            "_model_name": "LayoutModel",
            "justify_items": null,
            "grid_row": null,
            "max_height": null,
            "align_content": null,
            "visibility": null,
            "align_self": null,
            "height": null,
            "min_height": null,
            "padding": null,
            "grid_auto_rows": null,
            "grid_gap": null,
            "max_width": null,
            "order": null,
            "_view_module_version": "1.2.0",
            "grid_template_areas": null,
            "object_position": null,
            "object_fit": null,
            "grid_auto_columns": null,
            "margin": null,
            "display": null,
            "left": null
          }
        }
      }
    }
  },
  "cells": [
    {
      "cell_type": "markdown",
      "metadata": {
        "id": "view-in-github",
        "colab_type": "text"
      },
      "source": [
        "<a href=\"https://colab.research.google.com/github/liachicue/Linear_Regression_Models/blob/main/InsuranceBayesian.ipynb\" target=\"_parent\"><img src=\"https://colab.research.google.com/assets/colab-badge.svg\" alt=\"Open In Colab\"/></a>"
      ]
    },
    {
      "cell_type": "markdown",
      "metadata": {
        "id": "rzBNYLczZ1RJ"
      },
      "source": [
        "## Reclamación de Seguros Método Bayesiano\n",
        "\n",
        "**Machine Learning**\n",
        "\n",
        "**Universidad Tecnológica de Pereira**\n",
        "\n",
        "*Maestría en Ingeniería de Sistemas y Computación*\n",
        "\n",
        "*Prof. Hernán Felipe García Arias, PhD*\n",
        "\n",
        "*2021-2*"
      ]
    },
    {
      "cell_type": "code",
      "metadata": {
        "id": "QbxLVD53ZxrA"
      },
      "source": [
        "import matplotlib.pyplot as plt\n",
        "import numpy as np\n",
        "import pandas as pd\n",
        "from sklearn.linear_model import BayesianRidge\n",
        "from sklearn.metrics import  r2_score,mean_squared_error\n",
        "from ipywidgets import  interact, widgets"
      ],
      "execution_count": null,
      "outputs": []
    },
    {
      "cell_type": "code",
      "metadata": {
        "colab": {
          "resources": {
            "http://localhost:8080/nbextensions/google.colab/files.js": {
              "data": "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",
              "ok": true,
              "headers": [
                [
                  "content-type",
                  "application/javascript"
                ]
              ],
              "status": 200,
              "status_text": ""
            }
          },
          "base_uri": "https://localhost:8080/",
          "height": 74
        },
        "id": "lpxsHPL4aQ9e",
        "outputId": "fb9bf81f-6e0b-427e-f6c7-ce8f99082113"
      },
      "source": [
        "from google.colab import files\n",
        "uploaded = files.upload()"
      ],
      "execution_count": null,
      "outputs": [
        {
          "output_type": "display_data",
          "data": {
            "text/html": [
              "\n",
              "     <input type=\"file\" id=\"files-d6afe5d3-e414-407d-8b1c-9e00b3eb36f6\" name=\"files[]\" multiple disabled\n",
              "        style=\"border:none\" />\n",
              "     <output id=\"result-d6afe5d3-e414-407d-8b1c-9e00b3eb36f6\">\n",
              "      Upload widget is only available when the cell has been executed in the\n",
              "      current browser session. Please rerun this cell to enable.\n",
              "      </output>\n",
              "      <script src=\"/nbextensions/google.colab/files.js\"></script> "
            ],
            "text/plain": [
              "<IPython.core.display.HTML object>"
            ]
          },
          "metadata": {}
        },
        {
          "output_type": "stream",
          "name": "stdout",
          "text": [
            "Saving insuranceDB.csv to insuranceDB.csv\n"
          ]
        }
      ]
    },
    {
      "cell_type": "markdown",
      "metadata": {
        "id": "rc91DnIjehfE"
      },
      "source": [
        "Librería PANDAS: https://pandas.pydata.org/"
      ]
    },
    {
      "cell_type": "code",
      "metadata": {
        "id": "SOfI2Ns1eZxj"
      },
      "source": [
        "# Carguemos nuestra base de datos\n",
        "\n",
        "dataSet = pd.read_csv('insuranceDB.csv')\n",
        "dataSet = dataSet.dropna()\n"
      ],
      "execution_count": null,
      "outputs": []
    },
    {
      "cell_type": "code",
      "metadata": {
        "id": "BzoQSMLMhq0R"
      },
      "source": [
        "#Etiquetado de Datos\n",
        "\n",
        "dataSetNum = dataSet\n",
        "# 0 = Fem, 1 = Male\n",
        "dataSet['sex'] = dataSet['sex'].astype('category')\n",
        "dataSetNum['sex'] = dataSet['sex'].cat.codes\n",
        "\n",
        "# 0 = No, 1 = yes\n",
        "dataSet['smoker'] = dataSet['smoker'].astype('category')\n",
        "dataSetNum['smoker'] = dataSet['smoker'].cat.codes\n",
        "\n",
        "#0 = northeast, 1 = northwest, 2 = southeast, 3 = southwest\n",
        "dataSet['region'] = dataSet['region'].astype('category')\n",
        "dataSetNum['region'] = dataSet['region'].cat.codes\n",
        "\n",
        "#dataSetNum[:10]"
      ],
      "execution_count": null,
      "outputs": []
    },
    {
      "cell_type": "markdown",
      "metadata": {
        "id": "3SHVAtajiyfQ"
      },
      "source": [
        "Como realizaremos predicciones de los cargos al seguro, se deben separar los conjuntos de datos en Train y Test."
      ]
    },
    {
      "cell_type": "code",
      "metadata": {
        "id": "woMRsOEFjDnT",
        "colab": {
          "base_uri": "https://localhost:8080/",
          "height": 295
        },
        "outputId": "eaccd042-855d-4e66-f3f8-93dfd0e9c33d"
      },
      "source": [
        "X = dataSetNum.drop(columns='charges').values\n",
        "y = dataSetNum['charges'].values\n",
        "\n",
        "# Trainset, contiene los primeros 1000\n",
        "Xtrain = X[:1000,:] \n",
        "ytrain = y[:1000]\n",
        "\n",
        "# Testset, contiene los ultimos 1000\n",
        "Xtest = X[1000:,:]\n",
        "ytest = y[1000:]\n",
        "\n",
        "fig, ax = plt.subplots(ncols= 2, figsize = (10,4))\n",
        "\n",
        "#Lado Izq\n",
        "ax[0].plot(ytrain,'or')\n",
        "ax[0].set_title('Train Set')\n",
        "ax[0].set_ylabel('Charges (USD)')\n",
        "ax[0].set_xlabel('Consumers')\n",
        "\n",
        "#Lado Der\n",
        "ax[1].plot(ytest,'oy')\n",
        "ax[1].set_title('Test Set')\n",
        "ax[1].set_ylabel('Charges (USD)')\n",
        "ax[1].set_xlabel('Consumers')\n",
        "\n",
        "plt.show()"
      ],
      "execution_count": null,
      "outputs": [
        {
          "output_type": "display_data",
          "data": {
            "image/png": "[encoded data removed]",
            "text/plain": [
              "<Figure size 720x288 with 2 Axes>"
            ]
          },
          "metadata": {
            "needs_background": "light"
          }
        }
      ]
    },
    {
      "cell_type": "markdown",
      "metadata": {
        "id": "u6emmWA6mhFi"
      },
      "source": [
        "Nuestro dataset es de $N\\times D$ donde $D = 6$"
      ]
    },
    {
      "cell_type": "code",
      "metadata": {
        "colab": {
          "base_uri": "https://localhost:8080/",
          "height": 432,
          "referenced_widgets": [
            "3adaeefa38ea49e891d7230b421a6ac8",
            "ffaac05aa6d647c0bc0c5eccbfda3d66",
            "2034cff823c345f58c2ad1d97b94fa4a",
            "86d5483fb15242e8b9eb4f1605fb299d",
            "0fa734c14d0c444a8093604fa9a1c98a",
            "b8c2e99e14e74d538e92b26e988c479a",
            "82a4ddc9193c4ca5baf7b1924b5d279b",
            "c7b6f5bb02564687997eae1c2d74e431",
            "b5a2a980ecdc4c49b5d460abc08e8521",
            "e2e0afbcb56d4977b902f2feda1b8e99",
            "e31e5346dee54eb084e8dc162bf0ebfc",
            "8ae8b0e1d83146d69a72eef0cac015e3",
            "c1dd5ce98df246dbb9762f3bcfd66c9a"
          ]
        },
        "id": "GE4v2sYcHPOk",
        "outputId": "afcfad5f-dc36-4851-9ebe-acd56c95d904"
      },
      "source": [
        "@interact(CantBase = (1,100,3), Alfa_Param = (1.,100.,3.), Lambda_Param = widgets.FloatSlider(min=1e-4, max=1, step=0.001, value=0.1,readout_format='.4f'))\n",
        "def Experimeto1(CantBase,Alfa_Param,Lambda_Param):\n",
        "  # Matriz de Vandermode para emular la función base Polinomial de orden M\n",
        "  Ntr, D = Xtrain.shape\n",
        "  Nte, D = Xtest.shape\n",
        "  \n",
        "  # Definimos la cantidad de funciones base\n",
        "  \n",
        "  PHI_train = np.zeros((Ntr,(CantBase+1)*D))\n",
        "  \n",
        "  PHI_test = np.zeros((Nte,(CantBase+1)*D))\n",
        "  \n",
        "  # Proyectemos cada vector (observaciones) de D=6 para armar nuestra matriz de diseño\n",
        "  for n in range(0,len(ytrain)):\n",
        "    # Indexamos la observacion n-ésima\n",
        "    x_n = Xtrain[n,:]\n",
        "    # proyectamos este x_n utilizando la función base\n",
        "    phi_xn = np.vander(x_n,CantBase+1, increasing=True)\n",
        "    PHI_train[n,:] = phi_xn.flatten()\n",
        "    \n",
        "  for n in range(0,len(ytest)):\n",
        "    # Indexamos la observacion n-ésima\n",
        "    x_n = Xtest[n,:]\n",
        "    # proyectamos este x_n utilizando la función base\n",
        "    phi_xn = np.vander(x_n,CantBase+1, increasing=True)\n",
        "    PHI_test[n,:] = phi_xn.flatten()\n",
        "  \n",
        "  init = [Alfa_Param,Lambda_Param]\n",
        "  # Instanciemos nuestros modelo Bayesiano\n",
        "  modelReg = BayesianRidge(tol = 1e-6, fit_intercept=False, compute_score=True, alpha_init=Alfa_Param, lambda_init=Lambda_Param)\n",
        "  \n",
        "  # Creemos entonces nuestros parámetros iniciales del problema alpha y lambda\n",
        "  modelReg.fit(PHI_train,ytrain)\n",
        "  \n",
        "  ymean_test, ystd_test = modelReg.predict(PHI_test, return_std=True)  # Realizamos la predicción\n",
        "  \n",
        "  #print(ymean_test)\n",
        "  #print(ystd_test)\n",
        "\n",
        "  plt.plot(ytest,'-r')\n",
        "  plt.plot(ymean_test,'-b')\n",
        "  plt.fill_between(np.linspace(0,len(ytest),len(ytest)),ymean_test-ystd_test,ymean_test+ystd_test,color='pink',alpha=0.5)\n",
        "  plt.legend(('Observaciones','Datos','Std predictiva'))\n",
        "\n",
        "  \n",
        "  titulo = \"$\\\\alpha$_init$ = {:.2f},\\\\ \\\\lambda$_ini$={}$\".format(Alfa_Param,Lambda_Param)\n",
        "  \n",
        "  #stringResultado = \"$\\\\alpha = {:.2f}$\\n $\\\\lambda={:.3f}$\\n $L = {:.1f}$\".format(modelReg.alpha_,modelReg.lambda_, modelReg.scores_[-1])\n",
        "  #plt.text(0.05,-1.0,stringResultado)\n",
        "  plt.title(titulo)\n",
        "  plt.show()\n",
        "  \n",
        "  print('Parámetro Alpha:', modelReg.alpha_)\n",
        "  print('Parámetro lambda:', modelReg.lambda_)\n",
        "  print('Parámetro L:', modelReg.scores_[-1])"
      ],
      "execution_count": null,
      "outputs": [
        {
          "output_type": "display_data",
          "data": {
            "application/vnd.jupyter.widget-view+json": {
              "model_id": "3adaeefa38ea49e891d7230b421a6ac8",
              "version_minor": 0,
              "version_major": 2
            },
            "text/plain": [
              "interactive(children=(IntSlider(value=49, description='CantBase', min=1, step=3), FloatSlider(value=49.0, desc…"
            ]
          },
          "metadata": {}
        }
      ]
    },
    {
      "cell_type": "markdown",
      "metadata": {
        "id": "bnzFRgtUzu9R"
      },
      "source": [
        "Con el fin de observar el comportamiento de la regresión bayesiana lineal, exploremos tres casos en la simulación.\n",
        "\n",
        "Sí, por ejemplo, la cantidad de parámetros del modelo $CantBase$ es muy grande, la dispersión de las observaciones superará el valor de los datos de entrenamiento. \n",
        "\n",
        "Sí $CantBase$ es un valor medio, la proyección tendera a cero.\n",
        "\n",
        "Ahora, cuando $CantBase$ resulta en un valor pequeño pero no igual a cero, la respuesta será una dispersión para valores entre $[0 a 40,000]usd. "
      ]
    }
  ]
}